{
 "cells": [
  {
   "cell_type": "code",
   "execution_count": 25,
   "metadata": {},
   "outputs": [],
   "source": [
    "using PyPlot\n",
    "using BenchmarkTools\n",
    "using Interp1d\n",
    "using SciPy"
   ]
  },
  {
   "cell_type": "markdown",
   "metadata": {},
   "source": [
    "# Interpolation examples"
   ]
  },
  {
   "cell_type": "markdown",
   "metadata": {},
   "source": [
    "## Nearest interpolation"
   ]
  },
  {
   "cell_type": "code",
   "execution_count": 3,
   "metadata": {},
   "outputs": [
    {
     "data": {
      "text/latex": [
       "\\begin{verbatim}\n",
       "interp(xi::Vector{T}, yi::Vector{T}, ::Type{Nearest}; copy=true, sorted=false) where T\n",
       "interp(xi::Vector{T}, yi::Matrix{T}, ::Type{Nearest}; copy=true, sorted=false) where T\n",
       "\\end{verbatim}\n",
       "Returns a nearest interpolation function \\texttt{f(x)} based on interpolated points \\texttt{xi} and \\texttt{yi}.\n",
       "\n",
       "If \\texttt{xi} has a duplicated value, \\texttt{ArgumentError} is thrown.\n",
       "\n",
       "If \\texttt{copy} is true, this function makes internal copies of \\texttt{xi} and \\texttt{yi}, otherwise it uses references.\n",
       "\n",
       "If \\texttt{sorted} is false, this function sorts \\texttt{xi} first, otherwise it assumes \\texttt{xi} is monotonically increasing. \n",
       "\n",
       "\\section{Examples}\n",
       "This is a simple interpolation example:\n",
       "\n",
       "\\begin{verbatim}\n",
       "julia> using Interp1d\n",
       "\n",
       "julia> xi = [-1.0, 0.0, 3.0/2.0];\n",
       "\n",
       "julia> yi = [2.0, 1.0, 3.0];\n",
       "\n",
       "julia> f = interp(xi, yi, Nearest);\n",
       "\n",
       "julia> f(1.0)\n",
       "3.0\n",
       "\\end{verbatim}\n",
       "\\texttt{yi} can be matrix for multi univerate interpolations. The number of rows of \\texttt{yi} must be equal to the length of \\texttt{xi}.\n",
       "\n",
       "\\begin{verbatim}\n",
       "julia> using Interp1d\n",
       "\n",
       "julia> xi = [-1.0, 0.0, 3.0/2.0];\n",
       "\n",
       "julia> yi = [ 2.0  1.0 3.0;\n",
       "             -1.0 -4.4 2.0];\n",
       "\n",
       "julia> f = interp(xi, yi, Nearest);\n",
       "\n",
       "julia> f(0.0)\n",
       "2-element Vector{Float64}:\n",
       "  1.0\n",
       " -4.4\n",
       "\\end{verbatim}\n"
      ],
      "text/markdown": [
       "```\n",
       "interp(xi::Vector{T}, yi::Vector{T}, ::Type{Nearest}; copy=true, sorted=false) where T\n",
       "interp(xi::Vector{T}, yi::Matrix{T}, ::Type{Nearest}; copy=true, sorted=false) where T\n",
       "```\n",
       "\n",
       "Returns a nearest interpolation function `f(x)` based on interpolated points `xi` and `yi`.\n",
       "\n",
       "If `xi` has a duplicated value, `ArgumentError` is thrown.\n",
       "\n",
       "If `copy` is true, this function makes internal copies of `xi` and `yi`, otherwise it uses references.\n",
       "\n",
       "If `sorted` is false, this function sorts `xi` first, otherwise it assumes `xi` is monotonically increasing. \n",
       "\n",
       "# Examples\n",
       "\n",
       "This is a simple interpolation example:\n",
       "\n",
       "```jldoctest\n",
       "julia> using Interp1d\n",
       "\n",
       "julia> xi = [-1.0, 0.0, 3.0/2.0];\n",
       "\n",
       "julia> yi = [2.0, 1.0, 3.0];\n",
       "\n",
       "julia> f = interp(xi, yi, Nearest);\n",
       "\n",
       "julia> f(1.0)\n",
       "3.0\n",
       "```\n",
       "\n",
       "`yi` can be matrix for multi univerate interpolations. The number of rows of `yi` must be equal to the length of `xi`.\n",
       "\n",
       "```jldoctest\n",
       "julia> using Interp1d\n",
       "\n",
       "julia> xi = [-1.0, 0.0, 3.0/2.0];\n",
       "\n",
       "julia> yi = [ 2.0  1.0 3.0;\n",
       "             -1.0 -4.4 2.0];\n",
       "\n",
       "julia> f = interp(xi, yi, Nearest);\n",
       "\n",
       "julia> f(0.0)\n",
       "2-element Vector{Float64}:\n",
       "  1.0\n",
       " -4.4\n",
       "```\n"
      ],
      "text/plain": [
       "\u001b[36m  interp(xi::Vector{T}, yi::Vector{T}, ::Type{Nearest}; copy=true, sorted=false) where T\u001b[39m\n",
       "\u001b[36m  interp(xi::Vector{T}, yi::Matrix{T}, ::Type{Nearest}; copy=true, sorted=false) where T\u001b[39m\n",
       "\n",
       "  Returns a nearest interpolation function \u001b[36mf(x)\u001b[39m based on interpolated points\n",
       "  \u001b[36mxi\u001b[39m and \u001b[36myi\u001b[39m.\n",
       "\n",
       "  If \u001b[36mxi\u001b[39m has a duplicated value, \u001b[36mArgumentError\u001b[39m is thrown.\n",
       "\n",
       "  If \u001b[36mcopy\u001b[39m is true, this function makes internal copies of \u001b[36mxi\u001b[39m and \u001b[36myi\u001b[39m, otherwise\n",
       "  it uses references.\n",
       "\n",
       "  If \u001b[36msorted\u001b[39m is false, this function sorts \u001b[36mxi\u001b[39m first, otherwise it assumes \u001b[36mxi\u001b[39m is\n",
       "  monotonically increasing.\n",
       "\n",
       "\u001b[1m  Examples\u001b[22m\n",
       "\u001b[1m  ≡≡≡≡≡≡≡≡≡≡\u001b[22m\n",
       "\n",
       "  This is a simple interpolation example:\n",
       "\n",
       "\u001b[36m  julia> using Interp1d\u001b[39m\n",
       "\u001b[36m  \u001b[39m\n",
       "\u001b[36m  julia> xi = [-1.0, 0.0, 3.0/2.0];\u001b[39m\n",
       "\u001b[36m  \u001b[39m\n",
       "\u001b[36m  julia> yi = [2.0, 1.0, 3.0];\u001b[39m\n",
       "\u001b[36m  \u001b[39m\n",
       "\u001b[36m  julia> f = interp(xi, yi, Nearest);\u001b[39m\n",
       "\u001b[36m  \u001b[39m\n",
       "\u001b[36m  julia> f(1.0)\u001b[39m\n",
       "\u001b[36m  3.0\u001b[39m\n",
       "\n",
       "  \u001b[36myi\u001b[39m can be matrix for multi univerate interpolations. The number of rows of\n",
       "  \u001b[36myi\u001b[39m must be equal to the length of \u001b[36mxi\u001b[39m.\n",
       "\n",
       "\u001b[36m  julia> using Interp1d\u001b[39m\n",
       "\u001b[36m  \u001b[39m\n",
       "\u001b[36m  julia> xi = [-1.0, 0.0, 3.0/2.0];\u001b[39m\n",
       "\u001b[36m  \u001b[39m\n",
       "\u001b[36m  julia> yi = [ 2.0  1.0 3.0;\u001b[39m\n",
       "\u001b[36m               -1.0 -4.4 2.0];\u001b[39m\n",
       "\u001b[36m  \u001b[39m\n",
       "\u001b[36m  julia> f = interp(xi, yi, Nearest);\u001b[39m\n",
       "\u001b[36m  \u001b[39m\n",
       "\u001b[36m  julia> f(0.0)\u001b[39m\n",
       "\u001b[36m  2-element Vector{Float64}:\u001b[39m\n",
       "\u001b[36m    1.0\u001b[39m\n",
       "\u001b[36m   -4.4\u001b[39m"
      ]
     },
     "execution_count": 3,
     "metadata": {},
     "output_type": "execute_result"
    }
   ],
   "source": [
    "@doc(interp)"
   ]
  },
  {
   "cell_type": "markdown",
   "metadata": {},
   "source": [
    "### 1 input vs 1 output example"
   ]
  },
  {
   "cell_type": "code",
   "execution_count": 47,
   "metadata": {},
   "outputs": [
    {
     "data": {
      "text/plain": [
       "3.0"
      ]
     },
     "execution_count": 47,
     "metadata": {},
     "output_type": "execute_result"
    }
   ],
   "source": [
    "x = [-1.0, 0.0, 3.0/2.0];\n",
    "y = [2.0, 1.0, 3.0];\n",
    "f = interp(x, y, Nearest);\n",
    "f(1.0)"
   ]
  },
  {
   "cell_type": "code",
   "execution_count": 48,
   "metadata": {},
   "outputs": [
    {
     "data": {
      "image/png": "[encoded data removed]",
      "text/plain": [
       "Figure(PyObject <Figure size 640x480 with 1 Axes>)"
      ]
     },
     "metadata": {},
     "output_type": "display_data"
    }
   ],
   "source": [
    "x = [-2.0, -1.0, 0.0, 3.0/2.0, 3.0];\n",
    "y = [3.0, 2.0, 1.0, 3.0, 4.0];\n",
    "f = interp(x, y, Nearest);\n",
    "ix = collect(-3.0:0.1:4.0);\n",
    "iy = f.(ix);\n",
    "plot(x, y, \"xr\");\n",
    "plot(ix, iy, \"-b\");\n",
    "title(\"Nearest Interpolation\");"
   ]
  },
  {
   "cell_type": "code",
   "execution_count": 49,
   "metadata": {},
   "outputs": [
    {
     "data": {
      "image/png": "[encoded data removed]",
      "text/plain": [
       "Figure(PyObject <Figure size 640x480 with 1 Axes>)"
      ]
     },
     "metadata": {},
     "output_type": "display_data"
    }
   ],
   "source": [
    "sf = interpolate.interp1d(x, y, kind=\"nearest\", fill_value=\"extrapolate\")\n",
    "siy = sf(ix)\n",
    "plot(x, y, \"xr\");\n",
    "plot(ix, siy, \"-k\", label=\"SciPy interp1d\");"
   ]
  },
  {
   "cell_type": "code",
   "execution_count": 50,
   "metadata": {},
   "outputs": [
    {
     "data": {
      "image/png": "[encoded data removed]",
      "text/plain": [
       "Figure(PyObject <Figure size 640x480 with 1 Axes>)"
      ]
     },
     "metadata": {},
     "output_type": "display_data"
    }
   ],
   "source": [
    "x = [-2.0, -1.0, 0.0, 3.0/2.0, 3.0];\n",
    "y = [3.0, 2.0, 1.0, 3.0, 4.0];\n",
    "f = interp(x, y, Nearest);\n",
    "plot(x, y, \"xr\");\n",
    "y[3] = 5.0\n",
    "ix = collect(-3.0:0.1:4.0);\n",
    "iy = f.(ix);\n",
    "plot(ix, iy, \"-b\");\n",
    "title(\"Nearest Interpolation\");"
   ]
  },
  {
   "cell_type": "markdown",
   "metadata": {},
   "source": [
    "### 1 input vs 2 output example"
   ]
  },
  {
   "cell_type": "code",
   "execution_count": 51,
   "metadata": {},
   "outputs": [
    {
     "data": {
      "text/plain": [
       "2-element Vector{Float64}:\n",
       "  1.0\n",
       " -4.4"
      ]
     },
     "execution_count": 51,
     "metadata": {},
     "output_type": "execute_result"
    }
   ],
   "source": [
    "x = [-1.0, 0.0, 3.0/2.0];\n",
    "y = [2.0 1.0 3.0;\n",
    "    -1.0 -4.4 2.0];\n",
    "f = interp(x, y, Nearest);\n",
    "f(0.0)"
   ]
  },
  {
   "cell_type": "code",
   "execution_count": 52,
   "metadata": {},
   "outputs": [
    {
     "data": {
      "image/png": "[encoded data removed]",
      "text/plain": [
       "Figure(PyObject <Figure size 640x480 with 1 Axes>)"
      ]
     },
     "metadata": {},
     "output_type": "display_data"
    }
   ],
   "source": [
    "x = [-2.0, -1.0, 0.0, 3.0/2.0, 3.0];\n",
    "y = [3.0 2.0 1.0 3.0 4.0;\n",
    "    -2.0 1.0 0.0 5.0 3.0];\n",
    "f = interp(x, y, Nearest);\n",
    "ix = collect(-3.0:0.1:4.0);\n",
    "iy = hcat(f.(ix)...);\n",
    "plot(x, y[1,:], \"xr\");\n",
    "plot(x, y[2,:], \"xb\");\n",
    "plot(ix, iy[1,:], \"-r\");\n",
    "plot(ix, iy[2,:], \"-b\");\n",
    "title(\"Nearest Interpolation\");"
   ]
  },
  {
   "cell_type": "markdown",
   "metadata": {},
   "source": [
    "# Previous"
   ]
  },
  {
   "cell_type": "code",
   "execution_count": 7,
   "metadata": {},
   "outputs": [
    {
     "data": {
      "image/png": "[encoded data removed]",
      "text/plain": [
       "Figure(PyObject <Figure size 640x480 with 1 Axes>)"
      ]
     },
     "metadata": {},
     "output_type": "display_data"
    }
   ],
   "source": [
    "x = [-2.0, -1.0, 0.0, 3.0/2.0, 3.0];\n",
    "y = [3.0, 2.0, 1.0, 3.0, 4.0];\n",
    "f = interp(x, y, Previous);\n",
    "ix = collect(-3.0:0.1:4.0);\n",
    "iy = f.(ix);\n",
    "plot(x, y, \"xr\");\n",
    "plot(ix, iy, \"-b\");"
   ]
  },
  {
   "cell_type": "code",
   "execution_count": 8,
   "metadata": {},
   "outputs": [
    {
     "data": {
      "image/png": "[encoded data removed]",
      "text/plain": [
       "Figure(PyObject <Figure size 640x480 with 1 Axes>)"
      ]
     },
     "metadata": {},
     "output_type": "display_data"
    }
   ],
   "source": [
    "sf = interpolate.interp1d(x, y, kind=\"previous\", fill_value=\"extrapolate\")\n",
    "siy = sf(ix)\n",
    "plot(x, y, \"xr\");\n",
    "plot(ix, siy, \"-k\", label=\"SciPy interp1d\");"
   ]
  },
  {
   "cell_type": "code",
   "execution_count": 11,
   "metadata": {},
   "outputs": [
    {
     "data": {
      "image/png": "[encoded data removed]",
      "text/plain": [
       "Figure(PyObject <Figure size 640x480 with 1 Axes>)"
      ]
     },
     "metadata": {},
     "output_type": "display_data"
    }
   ],
   "source": [
    "x = [-2.0, -1.0, 0.0, 3.0/2.0, 3.0];\n",
    "y = [3.0 2.0 1.0 3.0 4.0;\n",
    "    -2.0 1.0 0.0 5.0 3.0];\n",
    "f = interp(x, y, Previous);\n",
    "ix = collect(-2.0:0.1:4.0);\n",
    "iy = hcat(f.(ix)...);\n",
    "plot(x, y[1,:], \"xr\");\n",
    "plot(x, y[2,:], \"xb\");\n",
    "plot(ix, iy[1,:], \"-r\");\n",
    "plot(ix, iy[2,:], \"-b\");\n",
    "title(\"Previous Interpolation\");"
   ]
  },
  {
   "cell_type": "markdown",
   "metadata": {},
   "source": [
    "## Next補間"
   ]
  },
  {
   "cell_type": "code",
   "execution_count": 5,
   "metadata": {},
   "outputs": [
    {
     "ename": "LoadError",
     "evalue": "UndefVarError: InterpMode not defined",
     "output_type": "error",
     "traceback": [
      "UndefVarError: InterpMode not defined",
      "",
      "Stacktrace:",
      " [1] top-level scope",
      "   @ In[5]:1",
      " [2] eval",
      "   @ ./boot.jl:360 [inlined]",
      " [3] include_string(mapexpr::typeof(REPL.softscope), mod::Module, code::String, filename::String)",
      "   @ Base ./loading.jl:1094"
     ]
    }
   ],
   "source": [
    "abstract type Next <: InterpMode end\n",
    "\n",
    "function interp(xi::Vector{T}, yi::Vector{T}, ::Type{Next}) where T\n",
    "    function f(x)\n",
    "        x >= xi[end] && return nothing\n",
    "        idx = searchsortedlast(xi, x)\n",
    "        idx < 1 && (idx = 1)\n",
    "        return yi[idx]\n",
    "    end\n",
    "    return f\n",
    "end"
   ]
  },
  {
   "cell_type": "code",
   "execution_count": 6,
   "metadata": {},
   "outputs": [
    {
     "ename": "LoadError",
     "evalue": "UndefVarError: interp not defined",
     "output_type": "error",
     "traceback": [
      "UndefVarError: interp not defined",
      "",
      "Stacktrace:",
      " [1] top-level scope",
      "   @ In[6]:3",
      " [2] eval",
      "   @ ./boot.jl:360 [inlined]",
      " [3] include_string(mapexpr::typeof(REPL.softscope), mod::Module, code::String, filename::String)",
      "   @ Base ./loading.jl:1094"
     ]
    }
   ],
   "source": [
    "x = [-2.0, -1.0, 0.0, 3.0/2.0, 3.0];\n",
    "y = [3.0, 2.0, 1.0, 3.0, 4.0];\n",
    "f = interp(x, y, Next);\n",
    "ix = collect(-3.0:0.1:4.0);\n",
    "iy = f.(ix);\n",
    "plot(x, y, \"xr\");\n",
    "plot(ix, iy, \"-b\");"
   ]
  },
  {
   "cell_type": "markdown",
   "metadata": {},
   "source": [
    "## Linear補間"
   ]
  },
  {
   "cell_type": "code",
   "execution_count": 7,
   "metadata": {},
   "outputs": [
    {
     "ename": "LoadError",
     "evalue": "UndefVarError: InterpMode not defined",
     "output_type": "error",
     "traceback": [
      "UndefVarError: InterpMode not defined",
      "",
      "Stacktrace:",
      " [1] top-level scope",
      "   @ In[7]:1",
      " [2] eval",
      "   @ ./boot.jl:360 [inlined]",
      " [3] include_string(mapexpr::typeof(REPL.softscope), mod::Module, code::String, filename::String)",
      "   @ Base ./loading.jl:1094"
     ]
    }
   ],
   "source": [
    "abstract type Linear <: InterpMode end\n",
    "\n",
    "abstract type ExtrapolateMode end\n",
    "abstract type Extrapolate <: ExtrapolateMode end\n",
    "abstract type FillNearest <: ExtrapolateMode end\n",
    "abstract type FillNothing <: ExtrapolateMode end\n",
    "\n",
    "function interp(xi::Vector{T}, yi::Vector{T}, ::Type{Linear}, extmode::Type{<:ExtrapolateMode}) where T\n",
    "    function f(x)\n",
    "        idx = searchsortedlast(xi, x)\n",
    "        if extmode == Extrapolate\n",
    "            idx < 1 && (idx = 1)\n",
    "            idx >= length(xi) && (idx = length(xi)-1)\n",
    "        elseif extmode == FillNearest\n",
    "            idx < 1 && (return yi[1])\n",
    "            idx >= length(xi) && (return yi[end])\n",
    "        elseif extmode == FillNothing\n",
    "            idx < 1 && (return nothing)\n",
    "            idx >= length(xi) && (return nothing)\n",
    "        end\n",
    "        return ((x-xi[idx])*yi[idx+1]-(x-xi[idx+1])*yi[idx])/(xi[idx+1]-xi[idx])\n",
    "    end\n",
    "    return f\n",
    "end\n",
    "\n",
    "interp(xi::Vector{T}, yi::Vector{T}, ::Type{Linear}) where T = interp(xi::Vector{T}, yi::Vector{T}, Linear, Extrapolate) "
   ]
  },
  {
   "cell_type": "code",
   "execution_count": 8,
   "metadata": {},
   "outputs": [
    {
     "ename": "LoadError",
     "evalue": "UndefVarError: interp not defined",
     "output_type": "error",
     "traceback": [
      "UndefVarError: interp not defined",
      "",
      "Stacktrace:",
      " [1] top-level scope",
      "   @ In[8]:3",
      " [2] eval",
      "   @ ./boot.jl:360 [inlined]",
      " [3] include_string(mapexpr::typeof(REPL.softscope), mod::Module, code::String, filename::String)",
      "   @ Base ./loading.jl:1094"
     ]
    }
   ],
   "source": [
    "x = [-2.0, -1.0, 0.0, 3.0/2.0, 3.0];\n",
    "y = [3.0, 2.0, 1.0, 3.0, 4.0];\n",
    "f = interp(x, y, Linear);\n",
    "ix = collect(-3.0:0.1:4.0);\n",
    "iy = f.(ix);\n",
    "plot(x, y, \"xr\");\n",
    "plot(ix, iy, \"-b\");"
   ]
  },
  {
   "cell_type": "code",
   "execution_count": 9,
   "metadata": {},
   "outputs": [
    {
     "ename": "LoadError",
     "evalue": "UndefVarError: interp not defined",
     "output_type": "error",
     "traceback": [
      "UndefVarError: interp not defined",
      "",
      "Stacktrace:",
      " [1] top-level scope",
      "   @ In[9]:3",
      " [2] eval",
      "   @ ./boot.jl:360 [inlined]",
      " [3] include_string(mapexpr::typeof(REPL.softscope), mod::Module, code::String, filename::String)",
      "   @ Base ./loading.jl:1094"
     ]
    }
   ],
   "source": [
    "x = [-2.0, -1.0, 0.0, 3.0/2.0, 3.0];\n",
    "y = [3.0, 2.0, 1.0, 3.0, 4.0];\n",
    "f = interp(x, y, Linear, Extrapolate);\n",
    "ix = collect(-3.0:0.1:4.0);\n",
    "iy = f.(ix);\n",
    "plot(x, y, \"xr\");\n",
    "plot(ix, iy, \"-b\");"
   ]
  },
  {
   "cell_type": "code",
   "execution_count": 10,
   "metadata": {},
   "outputs": [
    {
     "ename": "LoadError",
     "evalue": "UndefVarError: interp not defined",
     "output_type": "error",
     "traceback": [
      "UndefVarError: interp not defined",
      "",
      "Stacktrace:",
      " [1] top-level scope",
      "   @ In[10]:3",
      " [2] eval",
      "   @ ./boot.jl:360 [inlined]",
      " [3] include_string(mapexpr::typeof(REPL.softscope), mod::Module, code::String, filename::String)",
      "   @ Base ./loading.jl:1094"
     ]
    }
   ],
   "source": [
    "x = [-2.0, -1.0, 0.0, 3.0/2.0, 3.0];\n",
    "y = [3.0, 2.0, 1.0, 3.0, 4.0];\n",
    "f = interp(x, y, Linear, FillNearest);\n",
    "ix = collect(-3.0:0.1:4.0);\n",
    "iy = f.(ix);\n",
    "plot(x, y, \"xr\");\n",
    "plot(ix, iy, \"-b\");"
   ]
  },
  {
   "cell_type": "code",
   "execution_count": 11,
   "metadata": {},
   "outputs": [
    {
     "ename": "LoadError",
     "evalue": "UndefVarError: interp not defined",
     "output_type": "error",
     "traceback": [
      "UndefVarError: interp not defined",
      "",
      "Stacktrace:",
      " [1] top-level scope",
      "   @ In[11]:3",
      " [2] eval",
      "   @ ./boot.jl:360 [inlined]",
      " [3] include_string(mapexpr::typeof(REPL.softscope), mod::Module, code::String, filename::String)",
      "   @ Base ./loading.jl:1094"
     ]
    }
   ],
   "source": [
    "x = [-2.0, -1.0, 0.0, 3.0/2.0, 3.0];\n",
    "y = [3.0, 2.0, 1.0, 3.0, 4.0];\n",
    "f = interp(x, y, Linear, FillNothing);\n",
    "ix = collect(-3.0:0.1:4.0);\n",
    "iy = f.(ix);\n",
    "plot(x, y, \"xr\");\n",
    "plot(ix, iy, \"-b\");"
   ]
  },
  {
   "cell_type": "markdown",
   "metadata": {},
   "source": [
    "## Vandermonde行列による補間"
   ]
  },
  {
   "cell_type": "code",
   "execution_count": 12,
   "metadata": {},
   "outputs": [
    {
     "data": {
      "text/plain": [
       "vandermonde (generic function with 1 method)"
      ]
     },
     "execution_count": 12,
     "metadata": {},
     "output_type": "execute_result"
    }
   ],
   "source": [
    "function vandermonde(V::Vector{T}) where T\n",
    "    n=size(V, 1)\n",
    "    M=Array{T}(undef, n, n)\n",
    "    M[:,1] .= 1\n",
    "    for j=2:n, i=1:n\n",
    "        M[i,j] = M[i,j-1]*V[i]\n",
    "    end\n",
    "    return M\n",
    "end"
   ]
  },
  {
   "cell_type": "code",
   "execution_count": 13,
   "metadata": {},
   "outputs": [
    {
     "data": {
      "text/plain": [
       "3×3 Matrix{Float64}:\n",
       " 1.0  1.0  1.0\n",
       " 1.0  2.0  4.0\n",
       " 1.0  3.0  9.0"
      ]
     },
     "execution_count": 13,
     "metadata": {},
     "output_type": "execute_result"
    }
   ],
   "source": [
    "vandermonde([1.0,2.0,3.0])"
   ]
  },
  {
   "cell_type": "code",
   "execution_count": 14,
   "metadata": {},
   "outputs": [
    {
     "ename": "LoadError",
     "evalue": "UndefVarError: InterpMode not defined",
     "output_type": "error",
     "traceback": [
      "UndefVarError: InterpMode not defined",
      "",
      "Stacktrace:",
      " [1] top-level scope",
      "   @ In[14]:1",
      " [2] eval",
      "   @ ./boot.jl:360 [inlined]",
      " [3] include_string(mapexpr::typeof(REPL.softscope), mod::Module, code::String, filename::String)",
      "   @ Base ./loading.jl:1094"
     ]
    }
   ],
   "source": [
    "abstract type Vandermonde <: InterpMode end\n",
    "\n",
    "function interp(x::Vector{T}, y::Vector{T}, ::Type{Vandermonde}) where T\n",
    "    a = vandermonde(x)\\y\n",
    "    f(x) = evalpoly(x, a)\n",
    "    return f\n",
    "end"
   ]
  },
  {
   "cell_type": "code",
   "execution_count": 15,
   "metadata": {},
   "outputs": [
    {
     "ename": "LoadError",
     "evalue": "UndefVarError: interp not defined",
     "output_type": "error",
     "traceback": [
      "UndefVarError: interp not defined",
      "",
      "Stacktrace:",
      " [1] top-level scope",
      "   @ In[15]:3",
      " [2] eval",
      "   @ ./boot.jl:360 [inlined]",
      " [3] include_string(mapexpr::typeof(REPL.softscope), mod::Module, code::String, filename::String)",
      "   @ Base ./loading.jl:1094"
     ]
    }
   ],
   "source": [
    "x = [-2, -1, 0];\n",
    "y = [-3, 2, 1];\n",
    "f = interp(x, y, Vandermonde);\n",
    "ix = collect(-3.0:0.1:1.0);\n",
    "iy = f.(ix);\n",
    "plot(x, y, \"xr\");\n",
    "plot(ix, iy, \"-b\");"
   ]
  },
  {
   "cell_type": "code",
   "execution_count": 16,
   "metadata": {},
   "outputs": [
    {
     "ename": "LoadError",
     "evalue": "UndefVarError: interp not defined",
     "output_type": "error",
     "traceback": [
      "UndefVarError: interp not defined",
      "",
      "Stacktrace:",
      " [1] top-level scope",
      "   @ In[16]:3",
      " [2] eval",
      "   @ ./boot.jl:360 [inlined]",
      " [3] include_string(mapexpr::typeof(REPL.softscope), mod::Module, code::String, filename::String)",
      "   @ Base ./loading.jl:1094"
     ]
    }
   ],
   "source": [
    "x = [-2.0, -1.0, 0.0, 3.0/2.0, 3.0];\n",
    "y = [3.0, 2.0, 1.0, 3.0, 4.0];\n",
    "f = interp(x, y, Vandermonde);\n",
    "ix = collect(-3.0:0.1:4.0);\n",
    "iy = f.(ix);\n",
    "plot(x, y, \"xr\");\n",
    "plot(ix, iy, \"-b\");"
   ]
  },
  {
   "cell_type": "markdown",
   "metadata": {},
   "source": [
    "## ラグランジュ補間"
   ]
  },
  {
   "cell_type": "code",
   "execution_count": 17,
   "metadata": {},
   "outputs": [
    {
     "ename": "LoadError",
     "evalue": "UndefVarError: InterpMode not defined",
     "output_type": "error",
     "traceback": [
      "UndefVarError: InterpMode not defined",
      "",
      "Stacktrace:",
      " [1] top-level scope",
      "   @ In[17]:1",
      " [2] eval",
      "   @ ./boot.jl:360 [inlined]",
      " [3] include_string(mapexpr::typeof(REPL.softscope), mod::Module, code::String, filename::String)",
      "   @ Base ./loading.jl:1094"
     ]
    }
   ],
   "source": [
    "abstract type Lagrange <: InterpMode end\n",
    "\n",
    "function interp(xi::Vector{T}, yi::Vector{T}, ::Type{Lagrange}) where T\n",
    "    \n",
    "    function f(x)\n",
    "        p=0.0\n",
    "        for i in 1:length(xi)\n",
    "            tmp = 1.0\n",
    "            for j in 1:length(xi)\n",
    "                j == i && continue\n",
    "                tmp *= (x-xi[j])/(xi[i]-xi[j])\n",
    "            end\n",
    "            p+=(tmp*yi[i])\n",
    "        end\n",
    "        return p\n",
    "    end\n",
    "        \n",
    "    return f\n",
    "end"
   ]
  },
  {
   "cell_type": "code",
   "execution_count": 18,
   "metadata": {},
   "outputs": [
    {
     "ename": "LoadError",
     "evalue": "UndefVarError: interp not defined",
     "output_type": "error",
     "traceback": [
      "UndefVarError: interp not defined",
      "",
      "Stacktrace:",
      " [1] top-level scope",
      "   @ In[18]:3",
      " [2] eval",
      "   @ ./boot.jl:360 [inlined]",
      " [3] include_string(mapexpr::typeof(REPL.softscope), mod::Module, code::String, filename::String)",
      "   @ Base ./loading.jl:1094"
     ]
    }
   ],
   "source": [
    "x = [-2.0, -1.0, 0.0, 3.0/2.0, 3.0];\n",
    "y = [3.0, 2.0, 1.0, 3.0, 4.0];\n",
    "f = interp(x, y, Lagrange);\n",
    "ix = collect(-3.0:0.1:4.0);\n",
    "iy = f.(ix);\n",
    "plot(x, y, \"xr\");\n",
    "plot(ix, iy, \"-b\");"
   ]
  },
  {
   "cell_type": "markdown",
   "metadata": {},
   "source": [
    "# CubicSpline"
   ]
  },
  {
   "cell_type": "code",
   "execution_count": 19,
   "metadata": {},
   "outputs": [
    {
     "ename": "LoadError",
     "evalue": "UndefVarError: InterpMode not defined",
     "output_type": "error",
     "traceback": [
      "UndefVarError: InterpMode not defined",
      "",
      "Stacktrace:",
      " [1] top-level scope",
      "   @ In[19]:1",
      " [2] eval",
      "   @ ./boot.jl:360 [inlined]",
      " [3] include_string(mapexpr::typeof(REPL.softscope), mod::Module, code::String, filename::String)",
      "   @ Base ./loading.jl:1094"
     ]
    }
   ],
   "source": [
    "abstract type CubicSpline <: InterpMode end\n",
    "\n",
    "function interp(xi::Vector{T}, yi::Vector{T}, ::Type{CubicSpline}) where T\n",
    "    ndata = length(xi)\n",
    "    coeffmat = zeros(4, ndata)\n",
    "    w = zeros(ndata)\n",
    "    coeffmat[1, :] = yi[:]\n",
    "    dxi = diff(xi)\n",
    "   \n",
    "    for i=2:ndata-1\n",
    "        coeffmat[3, i] = 3.0*(coeffmat[1, i-1]-2.0*coeffmat[1, i]+coeffmat[1, i+1])\n",
    "    end\n",
    "    for i=2:ndata\n",
    "        tmp=4.0-w[i-1]\n",
    "        coeffmat[3, i] = (coeffmat[3, i]-coeffmat[3, i-1])/tmp\n",
    "        w[i] = 1.0/tmp\n",
    "    end\n",
    "    for i=(ndata-1):-1:1\n",
    "        coeffmat[3, i] = coeffmat[3, i]-coeffmat[3, i+1]*w[i]\n",
    "    end\n",
    "    for i=1:ndata-1\n",
    "        coeffmat[4, i] = (coeffmat[3, i+1]-coeffmat[3, i])/3.0\n",
    "        coeffmat[2, i] = coeffmat[1, i+1]-coeffmat[1, i]-coeffmat[3, i]-coeffmat[4, i]\n",
    "    end\n",
    "    \n",
    "    function f(x)\n",
    "        idx = searchsortedlast(xi, x)\n",
    "        idx == 0 && (idx=1)\n",
    "        idx > length(xi)-1 && (idx = length(xi)-1)\n",
    "        dt = (x-xi[idx])/dxi[idx]\n",
    "        return evalpoly(dt, coeffmat[:, idx])\n",
    "    end\n",
    "        \n",
    "    return f\n",
    "end"
   ]
  },
  {
   "cell_type": "code",
   "execution_count": 20,
   "metadata": {},
   "outputs": [
    {
     "ename": "LoadError",
     "evalue": "UndefVarError: interp not defined",
     "output_type": "error",
     "traceback": [
      "UndefVarError: interp not defined",
      "",
      "Stacktrace:",
      " [1] top-level scope",
      "   @ In[20]:3",
      " [2] eval",
      "   @ ./boot.jl:360 [inlined]",
      " [3] include_string(mapexpr::typeof(REPL.softscope), mod::Module, code::String, filename::String)",
      "   @ Base ./loading.jl:1094"
     ]
    }
   ],
   "source": [
    "x = [-2.0, -1.0, 0.0, 3.0/2.0, 3.0];\n",
    "y = [3.0, 2.0, 1.0, 3.0, 4.0];\n",
    "f = interp(x, y, CubicSpline);\n",
    "ix = collect(-3.0:0.1:4.0);\n",
    "iy = f.(ix);\n",
    "plot(x, y, \"xr\");\n",
    "plot(ix, iy, \"-b\");"
   ]
  },
  {
   "cell_type": "code",
   "execution_count": 21,
   "metadata": {},
   "outputs": [
    {
     "data": {
      "text/plain": [
       "interp (generic function with 1 method)"
      ]
     },
     "execution_count": 21,
     "metadata": {},
     "output_type": "execute_result"
    }
   ],
   "source": [
    "struct CubicSplineInterp \n",
    "    xi::Vector{AbstractFloat}\n",
    "    yi::Vector{AbstractFloat}\n",
    "    ndata::Int\n",
    "    coeffmat::AbstractMatrix\n",
    "    dxi::Vector{AbstractFloat}\n",
    "end\n",
    "\n",
    "function cubic_spline(xi::Vector{T}, yi::Vector{T}) where T\n",
    "    ndata = length(xi)\n",
    "    coeffmat = zeros(4, ndata)\n",
    "    w = zeros(ndata)\n",
    "    coeffmat[1, :] = yi[:]\n",
    "    dxi = diff(xi)\n",
    "   \n",
    "    for i=2:ndata-1\n",
    "        coeffmat[3, i] = 3.0*(coeffmat[1, i-1]-2.0*coeffmat[1, i]+coeffmat[1, i+1])\n",
    "    end\n",
    "    for i=2:ndata\n",
    "        tmp=4.0-w[i-1]\n",
    "        coeffmat[3, i] = (coeffmat[3, i]-coeffmat[3, i-1])/tmp\n",
    "        w[i] = 1.0/tmp\n",
    "    end\n",
    "    for i=(ndata-1):-1:1\n",
    "        coeffmat[3, i] = coeffmat[3, i]-coeffmat[3, i+1]*w[i]\n",
    "    end\n",
    "    for i=1:ndata-1\n",
    "        coeffmat[4, i] = (coeffmat[3, i+1]-coeffmat[3, i])/3.0\n",
    "        coeffmat[2, i] = coeffmat[1, i+1]-coeffmat[1, i]-coeffmat[3, i]-coeffmat[4, i]\n",
    "    end\n",
    "        \n",
    "    return CubicSplineInterp(xi, yi, ndata, coeffmat, dxi)\n",
    "end\n",
    "\n",
    "function interp(x::T, interp::CubicSplineInterp) where T\n",
    "    idx = searchsortedlast(interp.xi, x)\n",
    "    idx == 0 && (idx=1)\n",
    "    idx > interp.ndata-1 && (idx = interp.ndata-1)\n",
    "    dt = (x-interp.xi[idx])/interp.dxi[idx]\n",
    "    return evalpoly(dt, interp.coeffmat[:, idx])\n",
    "end"
   ]
  },
  {
   "cell_type": "code",
   "execution_count": 22,
   "metadata": {},
   "outputs": [
    {
     "data": {
      "image/png": "[encoded data removed]",
      "text/plain": [
       "Figure(PyObject <Figure size 640x480 with 1 Axes>)"
      ]
     },
     "metadata": {},
     "output_type": "display_data"
    }
   ],
   "source": [
    "x = [-2.0, -1.0, 0.0, 3.0/2.0, 3.0];\n",
    "y = [3.0, 2.0, 1.0, 3.0, 4.0];\n",
    "inter = cubic_spline(x, y);\n",
    "ix = collect(-3.0:0.1:4.0);\n",
    "iy = interp.(ix, Ref(inter));\n",
    "plot(x, y, \"xr\");\n",
    "plot(ix, iy, \"-b\");"
   ]
  },
  {
   "cell_type": "markdown",
   "metadata": {},
   "source": [
    "# Debug with Scipy"
   ]
  },
  {
   "cell_type": "code",
   "execution_count": 23,
   "metadata": {},
   "outputs": [
    {
     "data": {
      "image/png": "[encoded data removed]",
      "text/plain": [
       "Figure(PyObject <Figure size 640x480 with 1 Axes>)"
      ]
     },
     "metadata": {},
     "output_type": "display_data"
    }
   ],
   "source": [
    "f = interpolate.interp1d(x, y, kind=\"cubic\", fill_value=\"extrapolate\")\n",
    "ix = collect(-3.0:0.1:4.0);\n",
    "iy = f(ix);\n",
    "plot(x, y, \"xr\");\n",
    "plot(ix, iy, \"-b\");"
   ]
  },
  {
   "cell_type": "markdown",
   "metadata": {},
   "source": [
    "# benchmark"
   ]
  },
  {
   "cell_type": "markdown",
   "metadata": {},
   "source": [
    "## inner function vs struct"
   ]
  },
  {
   "cell_type": "code",
   "execution_count": 24,
   "metadata": {},
   "outputs": [],
   "source": [
    "x = collect(-2.0:0.1:3.0);\n",
    "y = sin.(x);\n",
    "ix = collect(-3.0:0.0001:4.0);"
   ]
  },
  {
   "cell_type": "code",
   "execution_count": 25,
   "metadata": {},
   "outputs": [
    {
     "ename": "LoadError",
     "evalue": "UndefVarError: CubicSpline not defined",
     "output_type": "error",
     "traceback": [
      "UndefVarError: CubicSpline not defined",
      "",
      "Stacktrace:",
      " [1] top-level scope",
      "   @ In[25]:1",
      " [2] eval",
      "   @ ./boot.jl:360 [inlined]",
      " [3] include_string(mapexpr::typeof(REPL.softscope), mod::Module, code::String, filename::String)",
      "   @ Base ./loading.jl:1094"
     ]
    }
   ],
   "source": [
    "f = interp(x, y, CubicSpline);\n",
    "@benchmark iy = f.($ix)"
   ]
  },
  {
   "cell_type": "code",
   "execution_count": 26,
   "metadata": {},
   "outputs": [],
   "source": [
    "inter = cubic_spline(x, y);"
   ]
  },
  {
   "cell_type": "code",
   "execution_count": 27,
   "metadata": {},
   "outputs": [
    {
     "data": {
      "text/plain": [
       "BenchmarkTools.Trial: \n",
       "  memory estimate:  19.43 MiB\n",
       "  allocs estimate:  818512\n",
       "  --------------\n",
       "  minimum time:     31.310 ms (0.00% GC)\n",
       "  median time:      34.413 ms (0.00% GC)\n",
       "  mean time:        34.663 ms (2.16% GC)\n",
       "  maximum time:     45.801 ms (0.00% GC)\n",
       "  --------------\n",
       "  samples:          145\n",
       "  evals/sample:     1"
      ]
     },
     "execution_count": 27,
     "metadata": {},
     "output_type": "execute_result"
    }
   ],
   "source": [
    "@benchmark iy = interp.($ix, Ref($inter))"
   ]
  },
  {
   "cell_type": "code",
   "execution_count": 28,
   "metadata": {},
   "outputs": [
    {
     "data": {
      "text/plain": [
       "BenchmarkTools.Trial: \n",
       "  memory estimate:  19.43 MiB\n",
       "  allocs estimate:  818511\n",
       "  --------------\n",
       "  minimum time:     31.779 ms (0.00% GC)\n",
       "  median time:      33.741 ms (0.00% GC)\n",
       "  mean time:        34.025 ms (2.19% GC)\n",
       "  maximum time:     42.028 ms (0.00% GC)\n",
       "  --------------\n",
       "  samples:          147\n",
       "  evals/sample:     1"
      ]
     },
     "execution_count": 28,
     "metadata": {},
     "output_type": "execute_result"
    }
   ],
   "source": [
    "@benchmark iy = interp.($ix, ($inter,))"
   ]
  },
  {
   "cell_type": "markdown",
   "metadata": {},
   "source": [
    "## Scipy vs Interp1d"
   ]
  },
  {
   "cell_type": "code",
   "execution_count": 26,
   "metadata": {},
   "outputs": [
    {
     "data": {
      "text/plain": [
       "BenchmarkTools.Trial: \n",
       "  memory estimate:  392.28 KiB\n",
       "  allocs estimate:  25\n",
       "  --------------\n",
       "  minimum time:     983.624 μs (0.00% GC)\n",
       "  median time:      1.132 ms (0.00% GC)\n",
       "  mean time:        1.197 ms (2.68% GC)\n",
       "  maximum time:     6.565 ms (77.58% GC)\n",
       "  --------------\n",
       "  samples:          4175\n",
       "  evals/sample:     1"
      ]
     },
     "execution_count": 26,
     "metadata": {},
     "output_type": "execute_result"
    }
   ],
   "source": [
    "x = collect(-2.0:0.1:3.0);\n",
    "y = sin.(x);\n",
    "ix = collect(-2.0:0.0001:3.0);\n",
    "f = interp(x, y, Previous)\n",
    "@benchmark iy = f.($ix)"
   ]
  },
  {
   "cell_type": "code",
   "execution_count": 23,
   "metadata": {},
   "outputs": [
    {
     "data": {
      "text/plain": [
       "BenchmarkTools.Trial: \n",
       "  memory estimate:  2.05 KiB\n",
       "  allocs estimate:  34\n",
       "  --------------\n",
       "  minimum time:     29.890 μs (0.00% GC)\n",
       "  median time:      31.174 μs (0.00% GC)\n",
       "  mean time:        32.783 μs (0.00% GC)\n",
       "  maximum time:     481.174 μs (0.00% GC)\n",
       "  --------------\n",
       "  samples:          10000\n",
       "  evals/sample:     1"
      ]
     },
     "execution_count": 23,
     "metadata": {},
     "output_type": "execute_result"
    }
   ],
   "source": [
    "f = interpolate.interp1d(x, y, kind=\"previous\", fill_value=\"extrapolate\")\n",
    "@benchmark iy = f($ix)"
   ]
  },
  {
   "cell_type": "markdown",
   "metadata": {},
   "source": [
    "# option arg test"
   ]
  },
  {
   "cell_type": "markdown",
   "metadata": {},
   "source": [
    "## copy"
   ]
  },
  {
   "cell_type": "code",
   "execution_count": 21,
   "metadata": {},
   "outputs": [
    {
     "data": {
      "text/plain": [
       "BenchmarkTools.Trial: \n",
       "  memory estimate:  1.00 KiB\n",
       "  allocs estimate:  7\n",
       "  --------------\n",
       "  minimum time:     330.511 ns (0.00% GC)\n",
       "  median time:      335.202 ns (0.00% GC)\n",
       "  mean time:        383.688 ns (8.81% GC)\n",
       "  maximum time:     11.575 μs (91.52% GC)\n",
       "  --------------\n",
       "  samples:          10000\n",
       "  evals/sample:     223"
      ]
     },
     "execution_count": 21,
     "metadata": {},
     "output_type": "execute_result"
    }
   ],
   "source": [
    "@benchmark f = interp(x, y, Nearest)"
   ]
  },
  {
   "cell_type": "code",
   "execution_count": 22,
   "metadata": {},
   "outputs": [
    {
     "data": {
      "text/plain": [
       "BenchmarkTools.Trial: \n",
       "  memory estimate:  32 bytes\n",
       "  allocs estimate:  1\n",
       "  --------------\n",
       "  minimum time:     153.984 ns (0.00% GC)\n",
       "  median time:      155.725 ns (0.00% GC)\n",
       "  mean time:        163.792 ns (0.84% GC)\n",
       "  maximum time:     3.379 μs (94.05% GC)\n",
       "  --------------\n",
       "  samples:          10000\n",
       "  evals/sample:     807"
      ]
     },
     "execution_count": 22,
     "metadata": {},
     "output_type": "execute_result"
    }
   ],
   "source": [
    "@benchmark f = interp(x, y, Nearest, copy=false)"
   ]
  },
  {
   "cell_type": "markdown",
   "metadata": {},
   "source": [
    "## assume_sorted"
   ]
  },
  {
   "cell_type": "code",
   "execution_count": 35,
   "metadata": {},
   "outputs": [
    {
     "data": {
      "text/plain": [
       "BenchmarkTools.Trial: \n",
       "  memory estimate:  1.41 KiB\n",
       "  allocs estimate:  14\n",
       "  --------------\n",
       "  minimum time:     808.602 ns (0.00% GC)\n",
       "  median time:      911.739 ns (0.00% GC)\n",
       "  mean time:        1.176 μs (9.25% GC)\n",
       "  maximum time:     58.966 μs (97.78% GC)\n",
       "  --------------\n",
       "  samples:          10000\n",
       "  evals/sample:     88"
      ]
     },
     "execution_count": 35,
     "metadata": {},
     "output_type": "execute_result"
    }
   ],
   "source": [
    "@benchmark f = interp(x, y, Nearest, assume_sorted=false)"
   ]
  },
  {
   "cell_type": "code",
   "execution_count": 36,
   "metadata": {},
   "outputs": [
    {
     "data": {
      "text/plain": [
       "BenchmarkTools.Trial: \n",
       "  memory estimate:  1.00 KiB\n",
       "  allocs estimate:  8\n",
       "  --------------\n",
       "  minimum time:     517.359 ns (0.00% GC)\n",
       "  median time:      523.880 ns (0.00% GC)\n",
       "  mean time:        614.883 ns (7.19% GC)\n",
       "  maximum time:     31.048 μs (0.00% GC)\n",
       "  --------------\n",
       "  samples:          10000\n",
       "  evals/sample:     192"
      ]
     },
     "execution_count": 36,
     "metadata": {},
     "output_type": "execute_result"
    }
   ],
   "source": [
    "@benchmark f = interp(x, y, Nearest, assume_sorted=true)"
   ]
  },
  {
   "cell_type": "markdown",
   "metadata": {},
   "source": [
    "# All interpolation"
   ]
  },
  {
   "cell_type": "code",
   "execution_count": 6,
   "metadata": {},
   "outputs": [
    {
     "data": {
      "image/png": "[encoded data removed]",
      "text/plain": [
       "Figure(PyObject <Figure size 640x480 with 1 Axes>)"
      ]
     },
     "metadata": {},
     "output_type": "display_data"
    },
    {
     "data": {
      "text/plain": [
       "PyObject <matplotlib.legend.Legend object at 0x7f84a033add0>"
      ]
     },
     "execution_count": 6,
     "metadata": {},
     "output_type": "execute_result"
    }
   ],
   "source": [
    "using Interp1d\n",
    "using PyPlot\n",
    "xi = collect(0.0:10.0) # x of interpolated points\n",
    "yi = exp.(-xi./3.0) # y of interpolated points\n",
    "x = collect(-1.0:0.1:11.0) # sampling points\n",
    "for mode in INTERP_MODE_LIST # Do interpolations for all modes.\n",
    "    f = interp(xi, yi, mode) # get an interpolation function\n",
    "    y = f.(x) # Do interpolation\n",
    "    plot(x, y, label=string(mode))\n",
    "end\n",
    "plot(xi, yi, \"xr\")\n",
    "legend()"
   ]
  },
  {
   "cell_type": "code",
   "execution_count": null,
   "metadata": {},
   "outputs": [],
   "source": []
  }
 ],
 "metadata": {
  "kernelspec": {
   "display_name": "Julia 1.6.0",
   "language": "julia",
   "name": "julia-1.6"
  },
  "language_info": {
   "file_extension": ".jl",
   "mimetype": "application/julia",
   "name": "julia",
   "version": "1.6.0"
  }
 },
 "nbformat": 4,
 "nbformat_minor": 4
}
